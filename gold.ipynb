{
  "nbformat": 4,
  "nbformat_minor": 0,
  "metadata": {
    "colab": {
      "provenance": []
    },
    "kernelspec": {
      "name": "python3",
      "display_name": "Python 3"
    },
    "language_info": {
      "name": "python"
    }
  },
  "cells": [
    {
      "cell_type": "code",
      "execution_count": 5,
      "metadata": {
        "colab": {
          "base_uri": "https://localhost:8080/"
        },
        "id": "87Rjl-pHAYND",
        "outputId": "37d6d579-4203-428a-d073-47bd29e3b4ef"
      },
      "outputs": [
        {
          "output_type": "stream",
          "name": "stdout",
          "text": [
            "黃金回售 -> 2020\n",
            "黃金買進 -> 2051\n"
          ]
        }
      ],
      "source": [
        "import time\n",
        "import urllib.request as request\n",
        "from bs4 import BeautifulSoup as bs\n",
        "\n",
        "local_time = time.ctime(time.time())\n",
        "\n",
        "url = 'https://rate.bot.com.tw/gold?Lang=zh-TW'\n",
        "\n",
        "with request.urlopen(url) as web:\n",
        "    data = web.read().decode(\"utf-8\")\n",
        "    htmlf = bs(data,\"html.parser\")\n",
        "    #print(htmlf)\n",
        "    buying = (htmlf.find_all(\"td\")[2].text.replace(\"買進\",\"\").strip())\n",
        "    selling = (htmlf.find_all(\"td\")[5].text.replace(\"回售\",\"\").strip())\n",
        "    print(\"黃金回售 ->\" , selling)\n",
        "    print(\"黃金買進 ->\" , buying)\n",
        "    time.sleep(1)"
      ]
    }
  ]
}
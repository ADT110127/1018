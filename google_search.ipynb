{
  "nbformat": 4,
  "nbformat_minor": 0,
  "metadata": {
    "colab": {
      "provenance": []
    },
    "kernelspec": {
      "name": "python3",
      "display_name": "Python 3"
    },
    "language_info": {
      "name": "python"
    }
  },
  "cells": [
    {
      "cell_type": "code",
      "source": [
        "import requests\n",
        "from bs4 import BeautifulSoup\n",
        "\n",
        "# Google 搜尋 URL\n",
        "google_url = 'https://www.google.com.tw/search'\n",
        "\n",
        "# 查詢參數\n",
        "my_params = {'q': 'central cee'}\n",
        "\n",
        "# 下載 Google 搜尋結果\n",
        "r = requests.get(google_url, params = my_params)\n",
        "\n",
        "# 確認是否下載成功\n",
        "if r.status_code == requests.codes.ok:\n",
        "  # 以 BeautifulSoup 解析 HTML 原始碼\n",
        "  soup = BeautifulSoup(r.text, 'html.parser')\n",
        "\n",
        "  # 觀察 HTML 原始碼\n",
        "  #print(soup.prettify())\n",
        "\n",
        "  # 以 CSS 的選擇器來抓取 Google 的搜尋結果\n",
        "  items = soup.select('div.kCrYT > a[href^=\"/url\"]')\n",
        "\n",
        "  for i in items:\n",
        "    # 標題\n",
        "    print(\"標題：\" + i.text)\n",
        "    # 網址\n",
        "    print(\"網址：\" + i.get('href'))"
      ],
      "metadata": {
        "colab": {
          "base_uri": "https://localhost:8080/"
        },
        "id": "KFlK17FddsJu",
        "outputId": "50564899-c612-4425-d762-65bec491dd69"
      },
      "execution_count": 2,
      "outputs": [
        {
          "output_type": "stream",
          "name": "stdout",
          "text": [
            "標題：(@centralcee) • Instagram photos and videoswww.instagram.com › centralcee\n",
            "網址：/url?q=https://www.instagram.com/centralcee/%3Fhl%3Den&sa=U&ved=2ahUKEwjLwZGBio-CAxV1JUQIHZOgB1IQFnoECAcQAg&usg=AOvVaw0oVAlq0V_9aeUMn9oXYzIA\n",
            "標題：Central Cee - Wikipediaen.wikipedia.org › wiki › Central_Cee\n",
            "網址：/url?q=https://en.wikipedia.org/wiki/Central_Cee&sa=U&ved=2ahUKEwjLwZGBio-CAxV1JUQIHZOgB1IQFnoECAEQAg&usg=AOvVaw39gSz-kdL1APUO6yySG6kq\n",
            "標題：Who is Central Cee? Religion, Ethnicity, Real Name & More Revealedwww.capitalxtra.com › news › who-is-central-cee-height-age-girlfriend-her...\n",
            "網址：/url?q=https://www.capitalxtra.com/news/who-is-central-cee-height-age-girlfriend-heritage-instagram-madeline-argy-songs/&sa=U&ved=2ahUKEwjLwZGBio-CAxV1JUQIHZOgB1IQFnoECAgQAg&usg=AOvVaw0uZYWZcWx6JwdsSkK9_p8X\n",
            "標題：Central Cee - YouTubewww.youtube.com › channel\n",
            "網址：/url?q=https://www.youtube.com/channel/UCV_CsAy5CNBX_uwDQ7RMe1Q&sa=U&ved=2ahUKEwjLwZGBio-CAxV1JUQIHZOgB1IQFnoECAAQAg&usg=AOvVaw1QsbQt5Bu2yiAe3v1WC1pa\n",
            "標題：Central Cee - Doja (Directed by Cole Bennett) - YouTubewww.youtube.com › watch\n",
            "網址：/url?q=https://www.youtube.com/watch%3Fv%3D_VuJA-VQRcY&sa=U&ved=2ahUKEwjLwZGBio-CAxV1JUQIHZOgB1IQtwJ6BAgFEAE&usg=AOvVaw0z5XUp58dLs9dcYCJpkG3I\n",
            "標題：\n",
            "網址：/url?q=https://www.youtube.com/watch%3Fv%3D_VuJA-VQRcY&sa=U&ved=2ahUKEwjLwZGBio-CAxV1JUQIHZOgB1IQuAJ6BAgFEAI&usg=AOvVaw2yV6ZP-k1nFAh7CWYs4UQ_\n",
            "標題：Central Cee x Dave - Sprinter [Music Video] - YouTubewww.youtube.com › watch\n",
            "網址：/url?q=https://www.youtube.com/watch%3Fv%3DpSY3i5XHHXo&sa=U&ved=2ahUKEwjLwZGBio-CAxV1JUQIHZOgB1IQtwJ6BAgCEAE&usg=AOvVaw2liHHpkOVXZzBggSPVWtHt\n",
            "標題：\n",
            "網址：/url?q=https://www.youtube.com/watch%3Fv%3DpSY3i5XHHXo&sa=U&ved=2ahUKEwjLwZGBio-CAxV1JUQIHZOgB1IQuAJ6BAgCEAI&usg=AOvVaw37l7yH6nQdUr_HohL5DP16\n",
            "標題：Central Cee - Let Go [Music Video] - YouTubewww.youtube.com › watch\n",
            "網址：/url?q=https://www.youtube.com/watch%3Fv%3DBqucGvLxrEk&sa=U&ved=2ahUKEwjLwZGBio-CAxV1JUQIHZOgB1IQtwJ6BAgGEAE&usg=AOvVaw1jYHp1Iyb__1m3H5G9MkUr\n",
            "標題：\n",
            "網址：/url?q=https://www.youtube.com/watch%3Fv%3DBqucGvLxrEk&sa=U&ved=2ahUKEwjLwZGBio-CAxV1JUQIHZOgB1IQuAJ6BAgGEAI&usg=AOvVaw0sdE6TrQbqaWnWzIkTpFWM\n",
            "標題：Central Cee | Spotifyopen.spotify.com › artist\n",
            "網址：/url?q=https://open.spotify.com/artist/5H4yInM5zmHqpKIoMNAx4r&sa=U&ved=2ahUKEwjLwZGBio-CAxV1JUQIHZOgB1IQFnoECAsQAg&usg=AOvVaw3T2hUrQ0ok9Kt90VtkNiqt\n",
            "標題：CentralCee - TikTokwww.tiktok.com › @centralcee\n",
            "網址：/url?q=https://www.tiktok.com/%40centralcee%3Flang%3Den&sa=U&ved=2ahUKEwjLwZGBio-CAxV1JUQIHZOgB1IQFnoECAoQAg&usg=AOvVaw0U-MbRboWtOF6V3rVo2WrG\n",
            "標題：Stream Central Cee music - SoundCloudsoundcloud.com › centralcee-music\n",
            "網址：/url?q=https://soundcloud.com/centralcee-music&sa=U&ved=2ahUKEwjLwZGBio-CAxV1JUQIHZOgB1IQFnoECAkQAg&usg=AOvVaw3Lafa-iOuyXDPKlCP3fNdV\n"
          ]
        }
      ]
    }
  ]
}